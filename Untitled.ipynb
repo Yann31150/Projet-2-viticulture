{
 "cells": [
  {
   "cell_type": "code",
   "execution_count": null,
   "id": "4162d190-7af0-4387-9d53-81e867cefb75",
   "metadata": {},
   "outputs": [],
   "source": []
  },
  {
   "cell_type": "markdown",
   "id": "cd259fcf-61c4-4291-956b-0b4eed6fe4db",
   "metadata": {},
   "source": [
    "# User\n",
    "Plot the first 100 fibonacci numbers"
   ]
  },
  {
   "cell_type": "markdown",
   "id": "e1851c4c-b185-468e-b704-8c1933bb1bbc",
   "metadata": {},
   "source": [
    "# Assistant\n",
    "# Plotting the First 100 Fibonacci Numbers\n",
    "\n",
    "To plot the first 100 Fibonacci numbers, I'll create a Python script that:\n",
    "1. Generates the Fibonacci sequence\n",
    "2. Creates a visualization of these numbers\n",
    "\n",
    "Here's the complete code:\n"
   ]
  },
  {
   "cell_type": "code",
   "execution_count": null,
   "id": "82b56be2-2615-482a-92e7-4f8f337ede84",
   "metadata": {},
   "outputs": [
    {
     "name": "stderr",
     "output_type": "stream",
     "text": [
      "Matplotlib is building the font cache; this may take a moment.\n",
      "Fontconfig warning: ignoring C.UTF-8: not a valid language tag\n"
     ]
    }
   ],
   "source": [
    "import numpy as np\n",
    "import matplotlib.pyplot as plt\n",
    "\n",
    "# Function to generate Fibonacci sequence\n",
    "def fibonacci(n):\n",
    "    fib_sequence = [0, 1]\n",
    "    for i in range(2, n):\n",
    "        fib_sequence.append(fib_sequence[i-1] + fib_sequence[i-2])\n",
    "    return fib_sequence\n",
    "\n",
    "# Generate first 100 Fibonacci numbers\n",
    "fib_numbers = fibonacci(100)\n",
    "\n",
    "# Create x-axis values (indices)\n",
    "indices = list(range(100))\n",
    "\n",
    "# Create the plot\n",
    "plt.figure(figsize=(12, 6))\n",
    "plt.plot(indices, fib_numbers, marker='o', linestyle='-', markersize=3)\n",
    "plt.title('First 100 Fibonacci Numbers')\n",
    "plt.xlabel('Index')\n",
    "plt.ylabel('Value')\n",
    "plt.grid(True)\n",
    "\n",
    "# Add a logarithmic scale for y-axis since Fibonacci numbers grow exponentially\n",
    "plt.yscale('log')\n",
    "\n",
    "# Create a second subplot to show the exponential growth on a normal scale\n",
    "plt.figure(figsize=(12, 6))\n",
    "plt.plot(indices, fib_numbers, marker='o', linestyle='-', markersize=3)\n",
    "plt.title('First 100 Fibonacci Numbers (Linear Scale)')\n",
    "plt.xlabel('Index')\n",
    "plt.ylabel('Value')\n",
    "plt.grid(True)\n",
    "\n",
    "plt.tight_layout()\n",
    "plt.show()\n"
   ]
  },
  {
   "cell_type": "code",
   "execution_count": null,
   "id": "1abd2bde-4f7d-4fcb-81d3-487b3bae3fee",
   "metadata": {},
   "outputs": [],
   "source": []
  },
  {
   "cell_type": "markdown",
   "id": "f1af75e4-6994-4877-a40d-74bd5d415e3c",
   "metadata": {},
   "source": [
    "\n",
    "This code:\n",
    "- Defines a function to generate Fibonacci numbers\n",
    "- Creates two visualizations:\n",
    "  1. A logarithmic plot that helps visualize the entire sequence\n",
    "  2. A linear plot that shows the exponential growth pattern\n",
    "\n",
    "The Fibonacci sequence grows extremely quickly, so the logarithmic scale in the first plot helps to visualize all values, while the second plot emphasizes the dramatic exponential growth."
   ]
  },
  {
   "cell_type": "code",
   "execution_count": null,
   "id": "8447ecba-5215-4791-ad83-3f91649a554e",
   "metadata": {},
   "outputs": [],
   "source": []
  },
  {
   "cell_type": "code",
   "execution_count": null,
   "id": "478aa4de-7965-4292-9626-7cf83bb0267f",
   "metadata": {},
   "outputs": [],
   "source": []
  }
 ],
 "metadata": {
  "kernelspec": {
   "display_name": "Python 3 (ipykernel)",
   "language": "python",
   "name": "python3"
  },
  "language_info": {
   "codemirror_mode": {
    "name": "ipython",
    "version": 3
   },
   "file_extension": ".py",
   "mimetype": "text/x-python",
   "name": "python",
   "nbconvert_exporter": "python",
   "pygments_lexer": "ipython3",
   "version": "3.11.11"
  }
 },
 "nbformat": 4,
 "nbformat_minor": 5
}

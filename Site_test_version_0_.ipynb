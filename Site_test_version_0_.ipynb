{
 "cells": [
  {
   "cell_type": "markdown",
   "metadata": {},
   "source": [
    "-------------------"
   ]
  },
  {
   "cell_type": "markdown",
   "metadata": {},
   "source": [
    "Le site internet présentera des vins. La combinaison avec un algorithme de ML permettra la recommandation d'un autre groupe de vins .\n",
    "\n",
    "Le site sera composé de trois pages :\n",
    "\n",
    "    - 1° page : explication du projet et des KPI utilisés lors de la présentation orale du projet.\n",
    "    - 2° page : destinée au filtrages des vins selon critères dans un menu déroulant. (image, descritpion, note, commentaires)\n",
    "        le clic sur l'image de bouteille oriente vers la page n°3 du site.\n",
    "    - 3° page : lorsque le vin est sélectionné, il est affcihé sur la pages 3. D'autres vins sont recommandés (4/5) selon l'algo ML (K-NN, RandomForestRegressor, etc)"
   ]
  },
  {
   "cell_type": "markdown",
   "metadata": {},
   "source": [
    "----------------------------"
   ]
  },
  {
   "cell_type": "markdown",
   "metadata": {},
   "source": [
    "Création de la première pages du site en Streamlit\n",
    "\n"
   ]
  }
 ],
 "metadata": {
  "kernelspec": {
   "display_name": "Python 3",
   "language": "python",
   "name": "python3"
  },
  "language_info": {
   "name": "python",
   "version": "3.13.3"
  }
 },
 "nbformat": 4,
 "nbformat_minor": 2
}
